{
 "cells": [
  {
   "cell_type": "code",
   "execution_count": 34,
   "id": "af9b899c",
   "metadata": {},
   "outputs": [],
   "source": [
    "import tensorflow.compat.v1 as tf\n",
    "import numpy as np\n",
    "tf.disable_v2_behavior()"
   ]
  },
  {
   "cell_type": "code",
   "execution_count": 35,
   "id": "1daed5b8",
   "metadata": {},
   "outputs": [],
   "source": [
    " \n",
    "# Caractéristiques du réseau\n",
    "# -------------------------\n",
    "ni=3# neurones en entrée\n",
    "nh=4# 4 neurones sur la couche cachée\n",
    "ns=1# 1 neurone en sortie\n",
    "nd=4# 4 jeux de données\n",
    "W=tf.Variable(tf.ones([ni,nh]))\n",
    "b=tf.Variable(tf.ones([nh,nd]))\n",
    "h=tf.Variable(tf.ones([nh,nd]))\n",
    "a=tf.Variable(tf.ones([nd]))\n",
    "o=tf.Variable(tf.ones([nd]))\n",
    "Z=tf.Variable(tf.ones([nh,ns]))\n",
    "b_hidden=tf.Variable(tf.zeros([nh,nd]))\n",
    "b_sortie=tf.Variable(tf.zeros([ns,nd]))"
   ]
  },
  {
   "cell_type": "code",
   "execution_count": 36,
   "id": "dda8ff6b",
   "metadata": {},
   "outputs": [],
   "source": [
    "x=tf.placeholder(\"float\",[ni,nd])\n",
    "t=tf.placeholder(\"float\",[ns,nd])\n",
    "# Calculs\n",
    "W1_Transposee=tf.transpose(W)\n",
    "M=tf.matmul(W1_Transposee,x)\n",
    "b=tf.add(M,b_hidden)\n",
    "h=tf.sigmoid(b)\n",
    "Z_Transposee=tf.transpose(Z)\n",
    "a=tf.add(tf.matmul(Z_Transposee,h),b_sortie)\n",
    "o=tf.sigmoid(a)\n",
    "erreur=tf.reduce_mean(tf.abs(tf.subtract(o,t)))\n",
    "train_step=tf.train.AdadeltaOptimizer(learning_rate=1.0).minimize(erreur)\n",
    "x_raw=np.array([[0.0,0.0,1.0,1.0],[0.0,1.0,0.0,1.0],[1.0,1.0,1.0,1.0]])\n",
    "t_raw=np.array([0,0,1,1]).T\n",
    "t_raw=np.reshape(t_raw,(1,4))"
   ]
  },
  {
   "cell_type": "code",
   "execution_count": 37,
   "id": "766e3285",
   "metadata": {},
   "outputs": [
    {
     "name": "stdout",
     "output_type": "stream",
     "text": [
      "valeur avant apprentissage = \n",
      "[[0.94903153 0.9713404  0.9713404  0.978338  ]]\n",
      "valeur obtenue apres apprentissage = \n",
      "[[0.19880237 0.10237535 0.9687447  0.97122526]]\n",
      "fin\n"
     ]
    }
   ],
   "source": [
    "# affichage\n",
    "normal_rv=tf.Variable(tf.truncated_normal([2,3],stddev=0.1))\n",
    "with tf.Session() as sess:\n",
    "    sess.run(tf.global_variables_initializer())\n",
    "    valeur=o.eval({x:x_raw})\n",
    "    print(\"valeur avant apprentissage = \")\n",
    "    print(valeur)\n",
    "    for epoch in range(1000):\n",
    "        k=sess.run(train_step,feed_dict={x:x_raw,t:t_raw})\n",
    "    valeur=o.eval({x:x_raw})\n",
    "    print(\"valeur obtenue apres apprentissage = \")\n",
    "    print(valeur)\n",
    "print(\"fin\")"
   ]
  },
  {
   "cell_type": "code",
   "execution_count": null,
   "id": "c3f76f81",
   "metadata": {},
   "outputs": [],
   "source": []
  },
  {
   "cell_type": "code",
   "execution_count": null,
   "id": "02d93831",
   "metadata": {},
   "outputs": [],
   "source": []
  },
  {
   "cell_type": "code",
   "execution_count": null,
   "id": "0dec0ff8",
   "metadata": {},
   "outputs": [],
   "source": []
  }
 ],
 "metadata": {
  "kernelspec": {
   "display_name": "Python 3 (ipykernel)",
   "language": "python",
   "name": "python3"
  },
  "language_info": {
   "codemirror_mode": {
    "name": "ipython",
    "version": 3
   },
   "file_extension": ".py",
   "mimetype": "text/x-python",
   "name": "python",
   "nbconvert_exporter": "python",
   "pygments_lexer": "ipython3",
   "version": "3.9.13"
  }
 },
 "nbformat": 4,
 "nbformat_minor": 5
}
