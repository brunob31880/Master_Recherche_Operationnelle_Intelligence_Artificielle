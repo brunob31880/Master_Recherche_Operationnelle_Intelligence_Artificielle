{
 "cells": [
  {
   "cell_type": "code",
   "execution_count": 1,
   "id": "4f051133",
   "metadata": {},
   "outputs": [
    {
     "name": "stderr",
     "output_type": "stream",
     "text": [
      "2023-04-08 13:13:22.144618: I tensorflow/core/platform/cpu_feature_guard.cc:182] This TensorFlow binary is optimized to use available CPU instructions in performance-critical operations.\n",
      "To enable the following instructions: AVX2 FMA, in other operations, rebuild TensorFlow with the appropriate compiler flags.\n"
     ]
    },
    {
     "name": "stdout",
     "output_type": "stream",
     "text": [
      "WARNING:tensorflow:From /Users/brunoboissie/opt/anaconda3/lib/python3.9/site-packages/tensorflow/python/compat/v2_compat.py:107: disable_resource_variables (from tensorflow.python.ops.variable_scope) is deprecated and will be removed in a future version.\n",
      "Instructions for updating:\n",
      "non-resource variables are not supported in the long term\n"
     ]
    }
   ],
   "source": [
    "import tensorflow.compat.v1 as tf\n",
    "import numpy as np\n",
    "tf.disable_v2_behavior()"
   ]
  },
  {
   "cell_type": "code",
   "execution_count": 9,
   "id": "a2fd3971",
   "metadata": {},
   "outputs": [],
   "source": [
    "# Les trois constantes définissant le réseau\n",
    "ni=3 # 3 entrées\n",
    "ns=1 # 1 sortie\n",
    "nd=4 # 4 jeux de données"
   ]
  },
  {
   "cell_type": "code",
   "execution_count": 3,
   "id": "6748262c",
   "metadata": {},
   "outputs": [],
   "source": [
    "W=tf.Variable(tf.ones([ni,ns]))\n",
    "a=tf.Variable(tf.ones([nd]))\n",
    "o=tf.Variable(tf.ones([nd]))\n",
    "b_sortie=tf.Variable(tf.zeros([ns,nd]))\n",
    "x=tf.placeholder(\"float\",[ni,nd])\n",
    "t=tf.placeholder(\"float\",[ns,nd])\n",
    "W1_Transposee=tf.transpose(W)\n",
    "a=tf.add(tf.matmul(W1_Transposee,x),b_sortie)\n",
    "o=tf.sigmoid(a)"
   ]
  },
  {
   "cell_type": "code",
   "execution_count": 4,
   "id": "1003075c",
   "metadata": {},
   "outputs": [],
   "source": [
    "x_raw=np.array([[0.0,1.0,1.0,0.0],\n",
    "               [0.0,1.0,0.0,1.0],\n",
    "               [1.0,1.0,1.0,1.0]\n",
    "               ])"
   ]
  },
  {
   "cell_type": "code",
   "execution_count": 5,
   "id": "2042ada5",
   "metadata": {},
   "outputs": [],
   "source": [
    "t_raw=np.array([0,1,1,0]).T\n",
    "t_raw=np.reshape(t_raw,(1,4))"
   ]
  },
  {
   "cell_type": "code",
   "execution_count": 6,
   "id": "51b0443c",
   "metadata": {},
   "outputs": [],
   "source": [
    "erreur=tf.reduce_mean(tf.abs(tf.subtract(o,t)))"
   ]
  },
  {
   "cell_type": "code",
   "execution_count": 7,
   "id": "77e7a8b9",
   "metadata": {},
   "outputs": [],
   "source": [
    "train_step=tf.train.AdadeltaOptimizer(learning_rate=1.0).minimize(erreur)"
   ]
  },
  {
   "cell_type": "code",
   "execution_count": 8,
   "id": "a4f9549a",
   "metadata": {},
   "outputs": [
    {
     "name": "stdout",
     "output_type": "stream",
     "text": [
      "valeur avant apprentissage = \n",
      "[[0.7310586  0.95257413 0.8807971  0.8807971 ]]\n",
      "valeur obtenue apres apprentissage = \n",
      "[[5.8200734e-04 9.9963564e-01 9.9961853e-01 4.3147212e-04]]\n",
      "fin\n"
     ]
    }
   ],
   "source": [
    "\n",
    "with tf.Session() as sess:\n",
    "    sess.run(tf.global_variables_initializer())\n",
    "    valeur=o.eval({x:x_raw})\n",
    "    print(\"valeur avant apprentissage = \")\n",
    "    print(valeur)\n",
    "    for epoch in range(10000):\n",
    "        k=sess.run(train_step,feed_dict={x:x_raw,t:t_raw})\n",
    "    valeur=o.eval({x:x_raw})\n",
    "    print(\"valeur obtenue apres apprentissage = \")\n",
    "    print(valeur)\n",
    "print(\"fin\")"
   ]
  },
  {
   "cell_type": "code",
   "execution_count": null,
   "id": "0035f30f",
   "metadata": {},
   "outputs": [],
   "source": []
  },
  {
   "cell_type": "code",
   "execution_count": null,
   "id": "0ca46bcb",
   "metadata": {},
   "outputs": [],
   "source": []
  }
 ],
 "metadata": {
  "kernelspec": {
   "display_name": "Python 3 (ipykernel)",
   "language": "python",
   "name": "python3"
  },
  "language_info": {
   "codemirror_mode": {
    "name": "ipython",
    "version": 3
   },
   "file_extension": ".py",
   "mimetype": "text/x-python",
   "name": "python",
   "nbconvert_exporter": "python",
   "pygments_lexer": "ipython3",
   "version": "3.9.13"
  }
 },
 "nbformat": 4,
 "nbformat_minor": 5
}
